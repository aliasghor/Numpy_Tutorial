{
 "cells": [
  {
   "cell_type": "markdown",
   "metadata": {},
   "source": [
    "# List Vs Array in Python.\n",
    "**List**:\n",
    "- List can hold different data types in a single list.\n",
    "- List consume more memory compared to an array.\n",
    "- List cannot specified a spesific data typess.\n",
    "- List cannot support Mathematical operations.\n",
    "\n",
    "**Array**:\n",
    "- Array can only hold same data types (homogeneous).\n",
    "- Array consume less memory, and faster compared to a list.\n",
    "- Array can specified a spesific data types (usually numbers).\n",
    "- Array can support Mathematical operations."
   ]
  },
  {
   "cell_type": "markdown",
   "metadata": {},
   "source": [
    "# What is an array?\n",
    "Array is a collection of variable that holds the same data types of element. In Numpy (Numerical Python) an array also known or refered to as `ndarray`, which is shorthand for \"N-dimensional array\". An N-dimensional array is simply an array with any number of dimensions such as: 1-D array, 2-D array, and 3-D array, etc. A vector is a single dimension array, while matrix referes to two dimensions, and for three dimensional array or higher than three dimensional array is also known as tensor. "
   ]
  },
  {
   "cell_type": "markdown",
   "metadata": {},
   "source": [
    "# How to create an array (ndarray object)?\n",
    "To create an array we'll need to pass a list to the function."
   ]
  },
  {
   "cell_type": "code",
   "execution_count": 1,
   "metadata": {},
   "outputs": [],
   "source": [
    "# Import the Numpy package\n",
    "import numpy as np"
   ]
  },
  {
   "cell_type": "code",
   "execution_count": 2,
   "metadata": {},
   "outputs": [
    {
     "data": {
      "text/plain": [
       "array([1, 2, 3, 4, 5])"
      ]
     },
     "execution_count": 2,
     "metadata": {},
     "output_type": "execute_result"
    }
   ],
   "source": [
    "# Create an array using array() function\n",
    "array = np.array([1,2,3,4,5])\n",
    "array"
   ]
  },
  {
   "cell_type": "code",
   "execution_count": null,
   "metadata": {},
   "outputs": [],
   "source": []
  }
 ],
 "metadata": {
  "kernelspec": {
   "display_name": "Python 3",
   "language": "python",
   "name": "python3"
  },
  "language_info": {
   "codemirror_mode": {
    "name": "ipython",
    "version": 3
   },
   "file_extension": ".py",
   "mimetype": "text/x-python",
   "name": "python",
   "nbconvert_exporter": "python",
   "pygments_lexer": "ipython3",
   "version": "3.12.3"
  }
 },
 "nbformat": 4,
 "nbformat_minor": 2
}
