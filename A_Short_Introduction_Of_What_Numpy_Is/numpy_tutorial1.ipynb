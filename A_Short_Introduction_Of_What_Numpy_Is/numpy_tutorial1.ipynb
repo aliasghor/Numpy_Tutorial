{
 "cells": [
  {
   "cell_type": "markdown",
   "metadata": {},
   "source": [
    "# Numpy tutorial from the offical doccumentation website"
   ]
  },
  {
   "cell_type": "markdown",
   "metadata": {},
   "source": [
    "## A little bit of knowledge of what Numpy is"
   ]
  },
  {
   "cell_type": "code",
   "execution_count": 15,
   "metadata": {},
   "outputs": [],
   "source": [
    "# Import the numpy package\n",
    "import numpy as np"
   ]
  },
  {
   "cell_type": "code",
   "execution_count": 16,
   "metadata": {},
   "outputs": [],
   "source": [
    "\"\"\"\n",
    "    NumPy (Numerical Python) is a package in Python that is often mainly used for Scientific comptation(e.g, Mathematical operations, basic linear algebra), etc. In addition Numpy leverages C pre-compiled code and has a fixed size at creation.\n",
    "\n",
    "    Here are list of differences between List and Array in Python:\n",
    "    -List:\n",
    "        - The size can grow dynamically\n",
    "        - The size isn't allocate contigously, instead it is scatter (behind the scence)\n",
    "        - Can store various data types\n",
    "\n",
    "    -Array:\n",
    "        - The size is fixed at creation\n",
    "        - The size is allocate contigously\n",
    "        - Can only store same type of data types(usually numbers)\n",
    "\"\"\"\n",
    "\n",
    "# Creating a simple vector(1D array), more about what vector is will be explain later\n",
    "vector = np.array([1,2,3,4,5])"
   ]
  },
  {
   "cell_type": "code",
   "execution_count": 17,
   "metadata": {},
   "outputs": [
    {
     "data": {
      "text/plain": [
       "array([1, 2, 3, 4, 5])"
      ]
     },
     "execution_count": 17,
     "metadata": {},
     "output_type": "execute_result"
    }
   ],
   "source": [
    "vector"
   ]
  },
  {
   "cell_type": "code",
   "execution_count": 18,
   "metadata": {},
   "outputs": [],
   "source": [
    "\"\"\"\n",
    "    A vector is 1D (1 Dimensional) Array. In addition to 1D a dimension in NumPy is often called axes. A vector has only 1 axes. Besides vectors, there are a Matrices (2 Dimensional) Array that has 2 axes, and tensors that has more than 2 axes.\n",
    "\"\"\"\n",
    "\n",
    "# Vector example\n",
    "vector = np.array([1,2,3,4,5],dtype=np.int16)\n",
    "\n",
    "# Matrix example\n",
    "matrix = np.arange(15,dtype=np.float32).reshape(3,5) # Specified the data type of matrix with the keyword argument dtype\n",
    "\n",
    "# Tensor example\n",
    "tensor = np.array([[[1,2,3],[4,5,6],[7,8,9]]])"
   ]
  },
  {
   "cell_type": "code",
   "execution_count": 19,
   "metadata": {},
   "outputs": [
    {
     "data": {
      "text/plain": [
       "array([1, 2, 3, 4, 5], dtype=int16)"
      ]
     },
     "execution_count": 19,
     "metadata": {},
     "output_type": "execute_result"
    }
   ],
   "source": [
    "vector"
   ]
  },
  {
   "cell_type": "code",
   "execution_count": 20,
   "metadata": {},
   "outputs": [
    {
     "data": {
      "text/plain": [
       "array([[ 0.,  1.,  2.,  3.,  4.],\n",
       "       [ 5.,  6.,  7.,  8.,  9.],\n",
       "       [10., 11., 12., 13., 14.]], dtype=float32)"
      ]
     },
     "execution_count": 20,
     "metadata": {},
     "output_type": "execute_result"
    }
   ],
   "source": [
    "matrix"
   ]
  },
  {
   "cell_type": "code",
   "execution_count": 21,
   "metadata": {},
   "outputs": [
    {
     "data": {
      "text/plain": [
       "array([[[1, 2, 3],\n",
       "        [4, 5, 6],\n",
       "        [7, 8, 9]]])"
      ]
     },
     "execution_count": 21,
     "metadata": {},
     "output_type": "execute_result"
    }
   ],
   "source": [
    "tensor"
   ]
  },
  {
   "cell_type": "markdown",
   "metadata": {},
   "source": [
    "## Some of importants attribute of an array "
   ]
  },
  {
   "cell_type": "code",
   "execution_count": 26,
   "metadata": {},
   "outputs": [
    {
     "name": "stdout",
     "output_type": "stream",
     "text": [
      "Vector consumed memory for about = 10 Bytes\n",
      "Each element of vector has a size for about = 2 Bytes\n",
      "Vector has shape for about = (5,)\n",
      "Vector has a dtype of = int16\n",
      "Vector has total axes for about = 1\n"
     ]
    }
   ],
   "source": [
    "\"\"\"\n",
    "    -ndarray.shape: This will return a tuple of integers, that represented each dimensions length or size\n",
    "    -ndarray.ndim: Number of axes in an array\n",
    "    -ndarray.size: Total of numbers in an array. This is equivalent to product of the shape of an array\n",
    "    -ndarray.nbytes: Total usage of bytes memory of an array\n",
    "    -ndarray.dtype: Describing the data type of an array. One can describe the array data type or specified the data type of an array using the keyword argument \"dtype\"\n",
    "    -ndarray.itemsize: The size in bytes of each element in an array\n",
    "\"\"\"\n",
    "\n",
    "print(f\"Vector consumed memory for about = {vector.nbytes} Bytes\")\n",
    "print(f\"Each element of vector has a size for about = {vector.itemsize} Bytes\")\n",
    "print(f\"Vector has shape for about = {vector.shape}\")\n",
    "print(f\"Vector has a dtype of = {vector.dtype}\")\n",
    "print(f\"Vector has total axes for about = {vector.ndim}\")"
   ]
  }
 ],
 "metadata": {
  "kernelspec": {
   "display_name": "Python 3",
   "language": "python",
   "name": "python3"
  },
  "language_info": {
   "codemirror_mode": {
    "name": "ipython",
    "version": 3
   },
   "file_extension": ".py",
   "mimetype": "text/x-python",
   "name": "python",
   "nbconvert_exporter": "python",
   "pygments_lexer": "ipython3",
   "version": "3.12.3"
  }
 },
 "nbformat": 4,
 "nbformat_minor": 2
}
